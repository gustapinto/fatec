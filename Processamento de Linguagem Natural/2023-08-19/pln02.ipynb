{
 "cells": [
  {
   "cell_type": "markdown",
   "id": "d15440eb-62ed-442f-924d-8ee6cb2f4667",
   "metadata": {},
   "source": [
    "# Processamento de Linguagem Natural - Aula 2\n",
    "\n",
    "# Conteúdo\n",
    "\n",
    "## Stopwords\n",
    "\n",
    "São palavras que embora estejam presentes em um texto não contribuem significativamente para sua compreensão, normalmente essas palavras apenas consomem recursos de processamento, não sendo sempre necessárias para que um algorítimo de processamento de linguagem natural compreenda o todo do texto passado ao mesmo\n",
    "\n",
    "Elas podem ser usadas para diminuir a quantidade de texto processado para se chegar ao contexto"
   ]
  },
  {
   "cell_type": "code",
   "execution_count": 13,
   "id": "b6a4bdfe-d1fb-47c0-92dc-0657d68dde83",
   "metadata": {
    "editable": true,
    "slideshow": {
     "slide_type": ""
    },
    "tags": []
   },
   "outputs": [],
   "source": [
    "import spacy\n",
    "from spacy import displacy\n",
    "\n",
    "nlp = spacy.load('en_core_web_sm')\n",
    "nlp_pt = spacy.load('pt_core_news_sm')"
   ]
  },
  {
   "cell_type": "code",
   "execution_count": 10,
   "id": "51500701-4da8-40dd-8a0c-1b48e11cff02",
   "metadata": {},
   "outputs": [
    {
     "name": "stdout",
     "output_type": "stream",
     "text": [
      "Stopwords PT: {'ter', 'entre', 'catorze', 'sistema', 'nenhuma', 'bastante', 'estará', 'ver', 'favor', 'dos', 'oito', 'quarto', 'mês', 'bom', 'estivestes', 'primeiro', 'sempre', 'boa', 'meu', 'quê', 'é', 'outra', 'nem', 'se', 'teus', 'nessa', 'iniciar', 'irá', 'possível', 'desde', 'já', 'fomos', 'cujo', 'fazia', 'também', 'pouco', 'te', 'vais', 'têm', 'além', 'diz', 'naquele', 'des', 'dentro', 'mil', 'vindo', 'nada', 'ademais', 'próprio', 'direita', 'minhas', 'sei', 'em', 'meses', 'dessa', 'no', 'atrás', 'ali', 'ir', 'aquelas', 'bem', 'a', 'umas', 'talvez', 'ontem', 'aqueles', 'num', 'forma', 'vocês', 'todos', 'tivemos', 'sexta', 'vários', 'tentar', 'estar', 'poder', 'foste', 'quanto', 'querem', 'só', 'numa', 'dezassete', 'alguns', 'tu', 'logo', 'primeira', 'disso', 'ela', 'ambos', 'último', 'porquê', 'ele', 'pegar', 'isso', 'perto', 'cuja', 'falta', 'era', 'novos', 'embora', 'inclusive', 'suas', 'aquela', 'tempo', 'parece', 'vinte', 'pouca', 'temos', 'dois', 'mal', 'fazem', 'deste', 'tente', 'estas', 'fim', 'quieta', 'qualquer', 'dar', 'somente', 'maiorias', 'sois', 'novo', 'seria', 'o', 'pela', 'faz', 'pelo', 'menor', 'somos', 'eu', 'número', 'terceira', 'seus', 'muitos', 'doze', 'usa', 'antes', 'quinta', 'você', 'foram', 'certamente', 'nunca', 'próxima', 'após', 'momento', 'seu', 'eles', 'longe', 'lhe', 'tais', 'fazer', 'tem', 'aos', 'números', 'obrigada', 'pontos', 'está', 'qual', 'vos', 'dezasseis', 'terceiro', 'tenho', 'teu', 'daquela', 'dez', 'tua', 'tentei', 'nesse', 'dão', 'vão', 'treze', 'cinco', 'elas', 'tendes', 'seis', 'da', 'apontar', 'neste', 'mais', 'vossa', 'apoio', 'portanto', 'depois', 'estive', 'das', 'grandes', 'desta', 'à', 'estás', 'dezoito', 'até', 'baixo', 'pôde', 'algo', 'próximo', 'dizer', 'daquele', 'essas', 'estava', 'dizem', 'nuns', 'segundo', 'nível', 'tivestes', 'pode', 'através', 'esse', 'sabe', 'quer', 'cá', 'de', 'me', 'meus', 'uns', 'custa', 'enquanto', 'comprido', 'grande', 'nós', 'pelos', 'vez', 'valor', 'fazes', 'usar', 'final', 'porquanto', 'podia', 'agora', 'lado', 'sobre', 'aí', 'mas', 'questão', 'inicio', 'pois', 'meio', 'não', 'posição', 'comprida', 'duas', 'estiveste', 'diante', 'do', 'tarde', 'fez', 'desse', 'sua', 'às', 'estes', 'foi', 'um', 'tanta', 'menos', 'és', 'sete', 'saber', 'vosso', 'sob', 'fazemos', 'tive', 'certeza', 'nossa', 'e', 'nossos', 'quinze', 'estou', 'ser', 'veja', 'deve', 'essa', 'quieto', 'assim', 'fará', 'povo', 'pelas', 'isto', 'outros', 'obrigado', 'novas', 'por', 'vós', 'nesta', 'estado', 'vossas', 'contra', 'tipo', 'quais', 'para', 'tudo', 'ambas', 'nove', 'aquele', 'tal', 'conselho', 'oitavo', 'parte', 'breve', 'tuas', 'ainda', 'cada', 'lá', 'todas', 'toda', 'conhecida', 'todo', 'coisa', 'contudo', 'conhecido', 'onze', 'nossas', 'ou', 'cedo', 'vai', 'sétimo', 'ligado', 'que', 'exemplo', 'algumas', 'vem', 'podem', 'aqui', 'caminho', 'nosso', 'área', 'esteve', 'vens', 'sou', 'debaixo', 'quinto', 'fui', 'põem', 'puderam', 'tens', 'faço', 'aquilo', 'ao', 'na', 'fazeis', 'sim', 'ora', 'lugar', 'nos', 'nova', 'porém', 'apoia', 'acerca', 'sexto', 'muito', 'vezes', 'maior', 'local', 'oitava', 'porque', 'maioria', 'demais', 'vossos', 'tão', 'como', 'quero', 'naquela', 'cima', 'outras', 'dá', 'vinda', 'estão', 'fostes', 'nas', 'poderá', 'esses', 'partir', 'as', 'este', 'quando', 'com', 'deverá', 'máximo', 'relação', 'eventual', 'os', 'esta', 'sem', 'ponto', 'onde', 'são', 'dezanove', 'grupo', 'tentaram', 'fora', 'adeus', 'zero', 'mesmo', 'posso', 'segunda', 'tiveste', 'quatro', 'três', 'sétima', 'for', 'possivelmente', 'estivemos', 'geral', 'minha', 'põe', 'devem', 'corrente', 'uma', 'quem', 'teve', 'então', 'cento', 'vêm', 'tiveram', 'quarta', 'tanto', 'apenas', 'estiveram'} \n",
      "\n",
      "Stopwords EN: {'twenty', 'its', 'toward', 'eight', 'sometimes', 'herself', 'ours', 'below', 'beforehand', 'whose', 'whereas', 'here', 'nobody', 'the', 'empty', 'then', \"n't\", 'wherein', 'say', 'therefore', 'ever', 'hereupon', 'would', 'top', 'whereupon', 're', 'more', 'each', 'than', 'across', \"'s\", 'quite', 'six', 'somehow', 'namely', 'should', \"'m\", 'indeed', 'always', '‘re', 'many', 'somewhere', 'via', 'along', 'becomes', 'often', '‘m', 'of', 'whither', 'if', 'no', 'nothing', 'four', 'above', 'before', 'a', 'is', 'hereby', 'an', 'take', 'in', 'yourself', 'has', 'i', 'thereby', 'together', 'besides', 'next', 'have', 'name', 'first', 'our', 'hence', '‘ve', 'again', 'are', 'by', 'last', 'fifteen', 'too', 'to', 'least', 'else', 'full', 'meanwhile', 'twelve', 'three', 'few', 'just', 'hereafter', 'therein', 'must', 'had', 'whoever', 'such', 'sometime', 'eleven', 'anyhow', 'most', 'so', 'within', 'same', 'you', 'wherever', 'his', 'those', 'under', 'behind', '’ll', 'whenever', 'at', '‘s', 'get', 'off', 'without', 'were', 'where', 'ten', 'thereafter', 'n’t', 'really', 'other', 'with', 'whom', 'why', 'about', 'very', 'only', 'whether', 'it', 'everyone', 'nor', 'thence', 'yet', 'while', \"'d\", 'seeming', 'due', 'third', 'himself', 'fifty', 'me', 'when', 'any', 'over', 'seemed', 'made', 'however', 'amongst', 'them', 'another', 'well', 'who', '‘d', 'put', 'serious', 'around', 'anywhere', 'since', 'noone', 'do', 'whence', 'someone', 'be', 'perhaps', 'whatever', 'beyond', 'though', 'nowhere', 'others', 'or', 'go', 'nine', 'regarding', 'whereafter', 'formerly', 'further', 'could', 'out', 'former', 'herein', 'among', 'keep', 'all', 'becoming', 'bottom', 'nevertheless', 'yours', 'on', 'will', 'neither', 'once', 'anyone', 'onto', '’m', 'might', 'several', 'been', 'per', 'whereby', 'anything', 'elsewhere', 'one', 'sixty', 'less', 'how', 'myself', 'up', 'used', 'down', 'become', 'until', 'something', 'still', 'was', 'two', 'am', 'and', 'against', 'every', 'between', 'itself', 'him', 'show', 'what', 'some', 'make', 'may', 'unless', 'throughout', 'mine', 'otherwise', 'ca', 'but', \"'ve\", 'there', 'either', 'she', 'own', 'front', 'latterly', 'now', 'call', 'seem', '‘ll', 'during', 'hers', 'latter', 'through', 'none', 'afterwards', 'us', 'part', 'ourselves', 'doing', 'did', 'anyway', 'their', 'using', 'from', '’ve', 'can', 'we', 'give', \"'re\", 'although', 'cannot', 'also', 'move', 'both', 'much', 'please', '’re', 'thus', 'everything', 'whole', 'became', 'upon', 'moreover', 'which', 'enough', 'thereupon', 'as', 'alone', 'amount', 'even', 'not', 'because', 'after', 'hundred', 'mostly', 'back', 'everywhere', 'except', 'your', 'thru', 'side', \"'ll\", 'yourselves', 'n‘t', 'seems', 'this', 'he', 'does', 'towards', 'beside', 'done', 'themselves', 'rather', 'for', 'almost', 'five', 'my', 'being', '’d', 'her', 'already', 'see', 'never', '’s', 'forty', 'into', 'various', 'that', 'these', 'they'} \n",
      "\n"
     ]
    }
   ],
   "source": [
    "# Stopwords da língua portuguesa\n",
    "from spacy.lang.pt.stop_words import STOP_WORDS as PT_STOP_WORDS\n",
    "# Stopwords da língua inglesa\n",
    "from spacy.lang.en.stop_words import STOP_WORDS as EN_STOP_WORDS\n",
    "\n",
    "print('Stopwords PT:', PT_STOP_WORDS, '\\n')\n",
    "print('Stopwords EN:', EN_STOP_WORDS, '\\n')"
   ]
  },
  {
   "cell_type": "code",
   "execution_count": 17,
   "id": "8e56e161-0633-41a4-a555-28ddb9e69bfc",
   "metadata": {},
   "outputs": [
    {
     "name": "stdout",
     "output_type": "stream",
     "text": [
      "Stop words: \n",
      "We\n",
      "are\n",
      "We\n",
      "are\n",
      "in\n",
      "\n",
      "Palavras: \n",
      "learning\n",
      "natural\n",
      "language\n",
      "processing\n",
      ".\n",
      "Brazil\n"
     ]
    }
   ],
   "source": [
    "doc = nlp('We are learning natural language processing. We are in Brazil')\n",
    "\n",
    "\n",
    "print('Stop words: ')\n",
    "for token in doc:\n",
    "    # Vocab Doc -> https://spacy.io/api/vocab\n",
    "    #\n",
    "    # <nlp>.vocab -> Acessa um dicionário com o vocabulário presente no NLP\n",
    "    # <vocab>.is_stop -> Determina se o vocabulário é uma stopword\n",
    "    if nlp.vocab[token.text].is_stop:\n",
    "        print(token.text)\n",
    "\n",
    "\n",
    "print('\\nPalavras: ')\n",
    "for token in doc:\n",
    "    if not nlp.vocab[token.text].is_stop:\n",
    "        print(token.text)"
   ]
  },
  {
   "cell_type": "markdown",
   "id": "af60472e-2869-441e-8054-09bd27621c06",
   "metadata": {},
   "source": [
    "## Dependency Parsing\n",
    "\n",
    "Evidencia o relacionamento hierárquico (pai-filho) entre as palavras da frase\n",
    "\n",
    "Usado para obter o relacionamento e os elementos de ligação de uma palavra da frase com as demais do todo"
   ]
  },
  {
   "cell_type": "code",
   "execution_count": 67,
   "id": "7c475eae-c8ff-4739-9728-a7043a0fa5fe",
   "metadata": {},
   "outputs": [
    {
     "name": "stdout",
     "output_type": "stream",
     "text": [
      "[from, ticket, Book]\n",
      "[to, ticket, Book]\n"
     ]
    }
   ],
   "source": [
    "doc = nlp('Book a ticket from London to Paris')\n",
    "origin = doc[4]\n",
    "destiny = doc[6]\n",
    "\n",
    "# <token>.ancestors -> Lista os ancestrais do token\n",
    "print(list(origin.ancestors))\n",
    "print(list(destiny.ancestors))"
   ]
  },
  {
   "cell_type": "code",
   "execution_count": 77,
   "id": "f8af06a2-9ab0-4ebb-a50e-07ec64b3ccfe",
   "metadata": {},
   "outputs": [
    {
     "name": "stdout",
     "output_type": "stream",
     "text": [
      "Locations: \n",
      "  restaurant:\n",
      "    - for\n",
      "    - table\n",
      "    - Book\n",
      "  hotel:\n",
      "    - for\n",
      "    - taxi\n",
      "    - restaurant\n",
      "    - for\n",
      "    - table\n",
      "    - Book\n",
      "\n",
      "Tasks: \n",
      "  table:\n",
      "    - Book\n",
      "  taxi:\n",
      "    - restaurant\n",
      "    - for\n",
      "    - table\n",
      "    - Book\n",
      "\n",
      "Reservations: \n",
      "  - table to restaurant\n",
      "  - taxi to hotel\n",
      "  - table to hotel\n"
     ]
    },
    {
     "data": {
      "text/html": [
       "<span class=\"tex2jax_ignore\"><svg xmlns=\"http://www.w3.org/2000/svg\" xmlns:xlink=\"http://www.w3.org/1999/xlink\" xml:lang=\"en\" id=\"13589d7da91e40b29a46a8e93566ef7f-0\" class=\"displacy\" width=\"1250\" height=\"237.0\" direction=\"ltr\" style=\"max-width: none; height: 237.0px; color: #000000; background: #ffffff; font-family: Arial; direction: ltr\">\n",
       "<text class=\"displacy-token\" fill=\"currentColor\" text-anchor=\"middle\" y=\"147.0\">\n",
       "    <tspan class=\"displacy-word\" fill=\"currentColor\" x=\"50\">Book</tspan>\n",
       "    <tspan class=\"displacy-tag\" dy=\"2em\" fill=\"currentColor\" x=\"50\">PROPN</tspan>\n",
       "</text>\n",
       "\n",
       "<text class=\"displacy-token\" fill=\"currentColor\" text-anchor=\"middle\" y=\"147.0\">\n",
       "    <tspan class=\"displacy-word\" fill=\"currentColor\" x=\"150\">a</tspan>\n",
       "    <tspan class=\"displacy-tag\" dy=\"2em\" fill=\"currentColor\" x=\"150\">DET</tspan>\n",
       "</text>\n",
       "\n",
       "<text class=\"displacy-token\" fill=\"currentColor\" text-anchor=\"middle\" y=\"147.0\">\n",
       "    <tspan class=\"displacy-word\" fill=\"currentColor\" x=\"250\">table</tspan>\n",
       "    <tspan class=\"displacy-tag\" dy=\"2em\" fill=\"currentColor\" x=\"250\">NOUN</tspan>\n",
       "</text>\n",
       "\n",
       "<text class=\"displacy-token\" fill=\"currentColor\" text-anchor=\"middle\" y=\"147.0\">\n",
       "    <tspan class=\"displacy-word\" fill=\"currentColor\" x=\"350\">for</tspan>\n",
       "    <tspan class=\"displacy-tag\" dy=\"2em\" fill=\"currentColor\" x=\"350\">ADP</tspan>\n",
       "</text>\n",
       "\n",
       "<text class=\"displacy-token\" fill=\"currentColor\" text-anchor=\"middle\" y=\"147.0\">\n",
       "    <tspan class=\"displacy-word\" fill=\"currentColor\" x=\"450\">the</tspan>\n",
       "    <tspan class=\"displacy-tag\" dy=\"2em\" fill=\"currentColor\" x=\"450\">DET</tspan>\n",
       "</text>\n",
       "\n",
       "<text class=\"displacy-token\" fill=\"currentColor\" text-anchor=\"middle\" y=\"147.0\">\n",
       "    <tspan class=\"displacy-word\" fill=\"currentColor\" x=\"550\">restaurant</tspan>\n",
       "    <tspan class=\"displacy-tag\" dy=\"2em\" fill=\"currentColor\" x=\"550\">NOUN</tspan>\n",
       "</text>\n",
       "\n",
       "<text class=\"displacy-token\" fill=\"currentColor\" text-anchor=\"middle\" y=\"147.0\">\n",
       "    <tspan class=\"displacy-word\" fill=\"currentColor\" x=\"650\">and</tspan>\n",
       "    <tspan class=\"displacy-tag\" dy=\"2em\" fill=\"currentColor\" x=\"650\">CCONJ</tspan>\n",
       "</text>\n",
       "\n",
       "<text class=\"displacy-token\" fill=\"currentColor\" text-anchor=\"middle\" y=\"147.0\">\n",
       "    <tspan class=\"displacy-word\" fill=\"currentColor\" x=\"750\">a</tspan>\n",
       "    <tspan class=\"displacy-tag\" dy=\"2em\" fill=\"currentColor\" x=\"750\">DET</tspan>\n",
       "</text>\n",
       "\n",
       "<text class=\"displacy-token\" fill=\"currentColor\" text-anchor=\"middle\" y=\"147.0\">\n",
       "    <tspan class=\"displacy-word\" fill=\"currentColor\" x=\"850\">taxi</tspan>\n",
       "    <tspan class=\"displacy-tag\" dy=\"2em\" fill=\"currentColor\" x=\"850\">NOUN</tspan>\n",
       "</text>\n",
       "\n",
       "<text class=\"displacy-token\" fill=\"currentColor\" text-anchor=\"middle\" y=\"147.0\">\n",
       "    <tspan class=\"displacy-word\" fill=\"currentColor\" x=\"950\">for</tspan>\n",
       "    <tspan class=\"displacy-tag\" dy=\"2em\" fill=\"currentColor\" x=\"950\">ADP</tspan>\n",
       "</text>\n",
       "\n",
       "<text class=\"displacy-token\" fill=\"currentColor\" text-anchor=\"middle\" y=\"147.0\">\n",
       "    <tspan class=\"displacy-word\" fill=\"currentColor\" x=\"1050\">the</tspan>\n",
       "    <tspan class=\"displacy-tag\" dy=\"2em\" fill=\"currentColor\" x=\"1050\">DET</tspan>\n",
       "</text>\n",
       "\n",
       "<text class=\"displacy-token\" fill=\"currentColor\" text-anchor=\"middle\" y=\"147.0\">\n",
       "    <tspan class=\"displacy-word\" fill=\"currentColor\" x=\"1150\">hotel</tspan>\n",
       "    <tspan class=\"displacy-tag\" dy=\"2em\" fill=\"currentColor\" x=\"1150\">NOUN</tspan>\n",
       "</text>\n",
       "\n",
       "<g class=\"displacy-arrow\">\n",
       "    <path class=\"displacy-arc\" id=\"arrow-13589d7da91e40b29a46a8e93566ef7f-0-0\" stroke-width=\"2px\" d=\"M170,102.0 C170,52.0 245.0,52.0 245.0,102.0\" fill=\"none\" stroke=\"currentColor\"/>\n",
       "    <text dy=\"1.25em\" style=\"font-size: 0.8em; letter-spacing: 1px\">\n",
       "        <textPath xlink:href=\"#arrow-13589d7da91e40b29a46a8e93566ef7f-0-0\" class=\"displacy-label\" startOffset=\"50%\" side=\"left\" fill=\"currentColor\" text-anchor=\"middle\">det</textPath>\n",
       "    </text>\n",
       "    <path class=\"displacy-arrowhead\" d=\"M170,104.0 L162,92.0 178,92.0\" fill=\"currentColor\"/>\n",
       "</g>\n",
       "\n",
       "<g class=\"displacy-arrow\">\n",
       "    <path class=\"displacy-arc\" id=\"arrow-13589d7da91e40b29a46a8e93566ef7f-0-1\" stroke-width=\"2px\" d=\"M70,102.0 C70,2.0 250.0,2.0 250.0,102.0\" fill=\"none\" stroke=\"currentColor\"/>\n",
       "    <text dy=\"1.25em\" style=\"font-size: 0.8em; letter-spacing: 1px\">\n",
       "        <textPath xlink:href=\"#arrow-13589d7da91e40b29a46a8e93566ef7f-0-1\" class=\"displacy-label\" startOffset=\"50%\" side=\"left\" fill=\"currentColor\" text-anchor=\"middle\">appos</textPath>\n",
       "    </text>\n",
       "    <path class=\"displacy-arrowhead\" d=\"M250.0,104.0 L258.0,92.0 242.0,92.0\" fill=\"currentColor\"/>\n",
       "</g>\n",
       "\n",
       "<g class=\"displacy-arrow\">\n",
       "    <path class=\"displacy-arc\" id=\"arrow-13589d7da91e40b29a46a8e93566ef7f-0-2\" stroke-width=\"2px\" d=\"M270,102.0 C270,52.0 345.0,52.0 345.0,102.0\" fill=\"none\" stroke=\"currentColor\"/>\n",
       "    <text dy=\"1.25em\" style=\"font-size: 0.8em; letter-spacing: 1px\">\n",
       "        <textPath xlink:href=\"#arrow-13589d7da91e40b29a46a8e93566ef7f-0-2\" class=\"displacy-label\" startOffset=\"50%\" side=\"left\" fill=\"currentColor\" text-anchor=\"middle\">prep</textPath>\n",
       "    </text>\n",
       "    <path class=\"displacy-arrowhead\" d=\"M345.0,104.0 L353.0,92.0 337.0,92.0\" fill=\"currentColor\"/>\n",
       "</g>\n",
       "\n",
       "<g class=\"displacy-arrow\">\n",
       "    <path class=\"displacy-arc\" id=\"arrow-13589d7da91e40b29a46a8e93566ef7f-0-3\" stroke-width=\"2px\" d=\"M470,102.0 C470,52.0 545.0,52.0 545.0,102.0\" fill=\"none\" stroke=\"currentColor\"/>\n",
       "    <text dy=\"1.25em\" style=\"font-size: 0.8em; letter-spacing: 1px\">\n",
       "        <textPath xlink:href=\"#arrow-13589d7da91e40b29a46a8e93566ef7f-0-3\" class=\"displacy-label\" startOffset=\"50%\" side=\"left\" fill=\"currentColor\" text-anchor=\"middle\">det</textPath>\n",
       "    </text>\n",
       "    <path class=\"displacy-arrowhead\" d=\"M470,104.0 L462,92.0 478,92.0\" fill=\"currentColor\"/>\n",
       "</g>\n",
       "\n",
       "<g class=\"displacy-arrow\">\n",
       "    <path class=\"displacy-arc\" id=\"arrow-13589d7da91e40b29a46a8e93566ef7f-0-4\" stroke-width=\"2px\" d=\"M370,102.0 C370,2.0 550.0,2.0 550.0,102.0\" fill=\"none\" stroke=\"currentColor\"/>\n",
       "    <text dy=\"1.25em\" style=\"font-size: 0.8em; letter-spacing: 1px\">\n",
       "        <textPath xlink:href=\"#arrow-13589d7da91e40b29a46a8e93566ef7f-0-4\" class=\"displacy-label\" startOffset=\"50%\" side=\"left\" fill=\"currentColor\" text-anchor=\"middle\">pobj</textPath>\n",
       "    </text>\n",
       "    <path class=\"displacy-arrowhead\" d=\"M550.0,104.0 L558.0,92.0 542.0,92.0\" fill=\"currentColor\"/>\n",
       "</g>\n",
       "\n",
       "<g class=\"displacy-arrow\">\n",
       "    <path class=\"displacy-arc\" id=\"arrow-13589d7da91e40b29a46a8e93566ef7f-0-5\" stroke-width=\"2px\" d=\"M570,102.0 C570,52.0 645.0,52.0 645.0,102.0\" fill=\"none\" stroke=\"currentColor\"/>\n",
       "    <text dy=\"1.25em\" style=\"font-size: 0.8em; letter-spacing: 1px\">\n",
       "        <textPath xlink:href=\"#arrow-13589d7da91e40b29a46a8e93566ef7f-0-5\" class=\"displacy-label\" startOffset=\"50%\" side=\"left\" fill=\"currentColor\" text-anchor=\"middle\">cc</textPath>\n",
       "    </text>\n",
       "    <path class=\"displacy-arrowhead\" d=\"M645.0,104.0 L653.0,92.0 637.0,92.0\" fill=\"currentColor\"/>\n",
       "</g>\n",
       "\n",
       "<g class=\"displacy-arrow\">\n",
       "    <path class=\"displacy-arc\" id=\"arrow-13589d7da91e40b29a46a8e93566ef7f-0-6\" stroke-width=\"2px\" d=\"M770,102.0 C770,52.0 845.0,52.0 845.0,102.0\" fill=\"none\" stroke=\"currentColor\"/>\n",
       "    <text dy=\"1.25em\" style=\"font-size: 0.8em; letter-spacing: 1px\">\n",
       "        <textPath xlink:href=\"#arrow-13589d7da91e40b29a46a8e93566ef7f-0-6\" class=\"displacy-label\" startOffset=\"50%\" side=\"left\" fill=\"currentColor\" text-anchor=\"middle\">det</textPath>\n",
       "    </text>\n",
       "    <path class=\"displacy-arrowhead\" d=\"M770,104.0 L762,92.0 778,92.0\" fill=\"currentColor\"/>\n",
       "</g>\n",
       "\n",
       "<g class=\"displacy-arrow\">\n",
       "    <path class=\"displacy-arc\" id=\"arrow-13589d7da91e40b29a46a8e93566ef7f-0-7\" stroke-width=\"2px\" d=\"M570,102.0 C570,2.0 850.0,2.0 850.0,102.0\" fill=\"none\" stroke=\"currentColor\"/>\n",
       "    <text dy=\"1.25em\" style=\"font-size: 0.8em; letter-spacing: 1px\">\n",
       "        <textPath xlink:href=\"#arrow-13589d7da91e40b29a46a8e93566ef7f-0-7\" class=\"displacy-label\" startOffset=\"50%\" side=\"left\" fill=\"currentColor\" text-anchor=\"middle\">conj</textPath>\n",
       "    </text>\n",
       "    <path class=\"displacy-arrowhead\" d=\"M850.0,104.0 L858.0,92.0 842.0,92.0\" fill=\"currentColor\"/>\n",
       "</g>\n",
       "\n",
       "<g class=\"displacy-arrow\">\n",
       "    <path class=\"displacy-arc\" id=\"arrow-13589d7da91e40b29a46a8e93566ef7f-0-8\" stroke-width=\"2px\" d=\"M870,102.0 C870,52.0 945.0,52.0 945.0,102.0\" fill=\"none\" stroke=\"currentColor\"/>\n",
       "    <text dy=\"1.25em\" style=\"font-size: 0.8em; letter-spacing: 1px\">\n",
       "        <textPath xlink:href=\"#arrow-13589d7da91e40b29a46a8e93566ef7f-0-8\" class=\"displacy-label\" startOffset=\"50%\" side=\"left\" fill=\"currentColor\" text-anchor=\"middle\">prep</textPath>\n",
       "    </text>\n",
       "    <path class=\"displacy-arrowhead\" d=\"M945.0,104.0 L953.0,92.0 937.0,92.0\" fill=\"currentColor\"/>\n",
       "</g>\n",
       "\n",
       "<g class=\"displacy-arrow\">\n",
       "    <path class=\"displacy-arc\" id=\"arrow-13589d7da91e40b29a46a8e93566ef7f-0-9\" stroke-width=\"2px\" d=\"M1070,102.0 C1070,52.0 1145.0,52.0 1145.0,102.0\" fill=\"none\" stroke=\"currentColor\"/>\n",
       "    <text dy=\"1.25em\" style=\"font-size: 0.8em; letter-spacing: 1px\">\n",
       "        <textPath xlink:href=\"#arrow-13589d7da91e40b29a46a8e93566ef7f-0-9\" class=\"displacy-label\" startOffset=\"50%\" side=\"left\" fill=\"currentColor\" text-anchor=\"middle\">det</textPath>\n",
       "    </text>\n",
       "    <path class=\"displacy-arrowhead\" d=\"M1070,104.0 L1062,92.0 1078,92.0\" fill=\"currentColor\"/>\n",
       "</g>\n",
       "\n",
       "<g class=\"displacy-arrow\">\n",
       "    <path class=\"displacy-arc\" id=\"arrow-13589d7da91e40b29a46a8e93566ef7f-0-10\" stroke-width=\"2px\" d=\"M970,102.0 C970,2.0 1150.0,2.0 1150.0,102.0\" fill=\"none\" stroke=\"currentColor\"/>\n",
       "    <text dy=\"1.25em\" style=\"font-size: 0.8em; letter-spacing: 1px\">\n",
       "        <textPath xlink:href=\"#arrow-13589d7da91e40b29a46a8e93566ef7f-0-10\" class=\"displacy-label\" startOffset=\"50%\" side=\"left\" fill=\"currentColor\" text-anchor=\"middle\">pobj</textPath>\n",
       "    </text>\n",
       "    <path class=\"displacy-arrowhead\" d=\"M1150.0,104.0 L1158.0,92.0 1142.0,92.0\" fill=\"currentColor\"/>\n",
       "</g>\n",
       "</svg></span>"
      ],
      "text/plain": [
       "<IPython.core.display.HTML object>"
      ]
     },
     "metadata": {},
     "output_type": "display_data"
    }
   ],
   "source": [
    "doc = nlp('Book a table for the restaurant and a taxi for the hotel')\n",
    "tasks = doc[2], doc[8]  # Cria um par (tupla) com os elementos\n",
    "locations = doc[5], doc[11]\n",
    "\n",
    "print('Locations: ')\n",
    "for location in locations:\n",
    "    print(f'  {location}:')\n",
    "    for ancestor in location.ancestors:\n",
    "        print(f'    - {ancestor}')\n",
    "\n",
    "print('\\nTasks: ')\n",
    "for task in tasks:\n",
    "    print(f'  {task}:')\n",
    "    for ancestor in task.ancestors:\n",
    "        print(f'    - {ancestor}')\n",
    "\n",
    "print('\\nReservations: ')\n",
    "for location in locations:\n",
    "    for ancestor in location.ancestors:\n",
    "        if ancestor in tasks:\n",
    "            print(f'  - {ancestor} to {location}')\n",
    "\n",
    "displacy.render(doc, style='dep', jupyter=True, options={'distance': 100})"
   ]
  },
  {
   "cell_type": "markdown",
   "id": "f6a51fb3-f5b2-463b-9874-1e1b1fe2987d",
   "metadata": {},
   "source": [
    "## Word similarity\n",
    "\n",
    "Obtém a semelhança entre duas ou mais sentenças"
   ]
  },
  {
   "cell_type": "code",
   "execution_count": 83,
   "id": "4628abdb-3b64-493a-8b17-784d4d33744a",
   "metadata": {},
   "outputs": [
    {
     "name": "stdout",
     "output_type": "stream",
     "text": [
      "0.7161105066354656\n",
      "0.15867725447859862\n"
     ]
    },
    {
     "name": "stderr",
     "output_type": "stream",
     "text": [
      "/tmp/ipykernel_9188/1807459045.py:6: UserWarning: [W007] The model you're using has no word vectors loaded, so the result of the Doc.similarity method will be based on the tagger, parser and NER, which may not give useful similarity judgements. This may happen if you're using one of the small models, e.g. `en_core_web_sm`, which don't ship with word vectors and only use context-sensitive tensors. You can always add your own word vectors, or use one of the larger models instead if available.\n",
      "  print(hello.similarity(hi))\n",
      "/tmp/ipykernel_9188/1807459045.py:7: UserWarning: [W007] The model you're using has no word vectors loaded, so the result of the Doc.similarity method will be based on the tagger, parser and NER, which may not give useful similarity judgements. This may happen if you're using one of the small models, e.g. `en_core_web_sm`, which don't ship with word vectors and only use context-sensitive tensors. You can always add your own word vectors, or use one of the larger models instead if available.\n",
      "  print(hello.similarity(or_))\n"
     ]
    }
   ],
   "source": [
    "hello = nlp('hello')\n",
    "hi = nlp('hi')\n",
    "or_ = nlp('or')\n",
    "\n",
    "# <nlp>.similarity -> calcula a similaridade entre duas sentenças, de 0 a 1\n",
    "print(hello.similarity(hi))\n",
    "print(hello.similarity(or_))"
   ]
  },
  {
   "cell_type": "markdown",
   "id": "96ee4481-e0b0-4367-8c2c-5fa0b7338950",
   "metadata": {},
   "source": [
    "# Exercícios"
   ]
  },
  {
   "cell_type": "markdown",
   "id": "6e135ec6-badf-471e-95f7-0c19094f8105",
   "metadata": {
    "jp-MarkdownHeadingCollapsed": true
   },
   "source": [
    "## Exercício 1"
   ]
  },
  {
   "cell_type": "code",
   "execution_count": 49,
   "id": "ced7a667-91c2-48da-9d80-45019e9e0b98",
   "metadata": {
    "editable": true,
    "scrolled": true,
    "slideshow": {
     "slide_type": ""
    },
    "tags": []
   },
   "outputs": [
    {
     "name": "stdout",
     "output_type": "stream",
     "text": [
      "Texto normal:\n",
      "\n"
     ]
    },
    {
     "data": {
      "text/html": [
       "<span class=\"tex2jax_ignore\"><div class=\"entities\" style=\"line-height: 2.5; direction: ltr\">A fundação da cidade é atribuída aos irmãos \n",
       "<mark class=\"entity\" style=\"background: #ddd; padding: 0.45em 0.6em; margin: 0 0.25em; line-height: 1; border-radius: 0.35em;\">\n",
       "    Bento de Lacerda Guimarães\n",
       "    <span style=\"font-size: 0.8em; font-weight: bold; line-height: 1; border-radius: 0.35em; vertical-align: middle; margin-left: 0.5rem\">PER</span>\n",
       "</mark>\n",
       " , \n",
       "<mark class=\"entity\" style=\"background: #ddd; padding: 0.45em 0.6em; margin: 0 0.25em; line-height: 1; border-radius: 0.35em;\">\n",
       "    barão de Araras\n",
       "    <span style=\"font-size: 0.8em; font-weight: bold; line-height: 1; border-radius: 0.35em; vertical-align: middle; margin-left: 0.5rem\">PER</span>\n",
       "</mark>\n",
       ", e \n",
       "<mark class=\"entity\" style=\"background: #ddd; padding: 0.45em 0.6em; margin: 0 0.25em; line-height: 1; border-radius: 0.35em;\">\n",
       "    José Lacerda Guimarães\n",
       "    <span style=\"font-size: 0.8em; font-weight: bold; line-height: 1; border-radius: 0.35em; vertical-align: middle; margin-left: 0.5rem\">PER</span>\n",
       "</mark>\n",
       ", \n",
       "<mark class=\"entity\" style=\"background: #ddd; padding: 0.45em 0.6em; margin: 0 0.25em; line-height: 1; border-radius: 0.35em;\">\n",
       "    barão de Arari\n",
       "    <span style=\"font-size: 0.8em; font-weight: bold; line-height: 1; border-radius: 0.35em; vertical-align: middle; margin-left: 0.5rem\">PER</span>\n",
       "</mark>\n",
       ", originários de \n",
       "<mark class=\"entity\" style=\"background: #ff9561; padding: 0.45em 0.6em; margin: 0 0.25em; line-height: 1; border-radius: 0.35em;\">\n",
       "    Itatiba\n",
       "    <span style=\"font-size: 0.8em; font-weight: bold; line-height: 1; border-radius: 0.35em; vertical-align: middle; margin-left: 0.5rem\">LOC</span>\n",
       "</mark>\n",
       ". As primeiras residências da região surgiram em suas terras por volta de 1862, mas foi a doação de parte da \n",
       "<mark class=\"entity\" style=\"background: #ff9561; padding: 0.45em 0.6em; margin: 0 0.25em; line-height: 1; border-radius: 0.35em;\">\n",
       "    Fazenda São Joaquim\n",
       "    <span style=\"font-size: 0.8em; font-weight: bold; line-height: 1; border-radius: 0.35em; vertical-align: middle; margin-left: 0.5rem\">LOC</span>\n",
       "</mark>\n",
       " (no \n",
       "<mark class=\"entity\" style=\"background: #ff9561; padding: 0.45em 0.6em; margin: 0 0.25em; line-height: 1; border-radius: 0.35em;\">\n",
       "    Município de Limeira\n",
       "    <span style=\"font-size: 0.8em; font-weight: bold; line-height: 1; border-radius: 0.35em; vertical-align: middle; margin-left: 0.5rem\">LOC</span>\n",
       "</mark>\n",
       ") - propriedade que pertence até hoje a seus descendentes, que permitiu a construção da capela que mais tarde se tornaria a \n",
       "<mark class=\"entity\" style=\"background: #ff9561; padding: 0.45em 0.6em; margin: 0 0.25em; line-height: 1; border-radius: 0.35em;\">\n",
       "    Igreja Nossa Senhora do Patrocínio\n",
       "    <span style=\"font-size: 0.8em; font-weight: bold; line-height: 1; border-radius: 0.35em; vertical-align: middle; margin-left: 0.5rem\">LOC</span>\n",
       "</mark>\n",
       " da cidade, em 15 de agosto de 1862. O nome &quot;\n",
       "<mark class=\"entity\" style=\"background: #ff9561; padding: 0.45em 0.6em; margin: 0 0.25em; line-height: 1; border-radius: 0.35em;\">\n",
       "    Araras\n",
       "    <span style=\"font-size: 0.8em; font-weight: bold; line-height: 1; border-radius: 0.35em; vertical-align: middle; margin-left: 0.5rem\">LOC</span>\n",
       "</mark>\n",
       "&quot; foi escolhido em referência ao nome do rio que corta a cidade, e também devido ao grande número dessa ave que havia na região.</div></span>"
      ],
      "text/plain": [
       "<IPython.core.display.HTML object>"
      ]
     },
     "metadata": {},
     "output_type": "display_data"
    },
    {
     "name": "stdout",
     "output_type": "stream",
     "text": [
      "\n",
      "Texto filtrado:\n",
      "\n"
     ]
    },
    {
     "data": {
      "text/html": [
       "<span class=\"tex2jax_ignore\"><div class=\"entities\" style=\"line-height: 2.5; direction: ltr\">fundação cidade atribuída irmãos \n",
       "<mark class=\"entity\" style=\"background: #ddd; padding: 0.45em 0.6em; margin: 0 0.25em; line-height: 1; border-radius: 0.35em;\">\n",
       "    Bento Lacerda Guimarães\n",
       "    <span style=\"font-size: 0.8em; font-weight: bold; line-height: 1; border-radius: 0.35em; vertical-align: middle; margin-left: 0.5rem\">PER</span>\n",
       "</mark>\n",
       " , barão \n",
       "<mark class=\"entity\" style=\"background: #ff9561; padding: 0.45em 0.6em; margin: 0 0.25em; line-height: 1; border-radius: 0.35em;\">\n",
       "    Araras\n",
       "    <span style=\"font-size: 0.8em; font-weight: bold; line-height: 1; border-radius: 0.35em; vertical-align: middle; margin-left: 0.5rem\">LOC</span>\n",
       "</mark>\n",
       " , \n",
       "<mark class=\"entity\" style=\"background: #ddd; padding: 0.45em 0.6em; margin: 0 0.25em; line-height: 1; border-radius: 0.35em;\">\n",
       "    José Lacerda Guimarães\n",
       "    <span style=\"font-size: 0.8em; font-weight: bold; line-height: 1; border-radius: 0.35em; vertical-align: middle; margin-left: 0.5rem\">PER</span>\n",
       "</mark>\n",
       " , barão \n",
       "<mark class=\"entity\" style=\"background: #ff9561; padding: 0.45em 0.6em; margin: 0 0.25em; line-height: 1; border-radius: 0.35em;\">\n",
       "    Arari\n",
       "    <span style=\"font-size: 0.8em; font-weight: bold; line-height: 1; border-radius: 0.35em; vertical-align: middle; margin-left: 0.5rem\">LOC</span>\n",
       "</mark>\n",
       " , originários \n",
       "<mark class=\"entity\" style=\"background: #ff9561; padding: 0.45em 0.6em; margin: 0 0.25em; line-height: 1; border-radius: 0.35em;\">\n",
       "    Itatiba\n",
       "    <span style=\"font-size: 0.8em; font-weight: bold; line-height: 1; border-radius: 0.35em; vertical-align: middle; margin-left: 0.5rem\">LOC</span>\n",
       "</mark>\n",
       " . primeiras residências região surgiram terras volta 1862 , doação \n",
       "<mark class=\"entity\" style=\"background: #ff9561; padding: 0.45em 0.6em; margin: 0 0.25em; line-height: 1; border-radius: 0.35em;\">\n",
       "    Fazenda Joaquim\n",
       "    <span style=\"font-size: 0.8em; font-weight: bold; line-height: 1; border-radius: 0.35em; vertical-align: middle; margin-left: 0.5rem\">LOC</span>\n",
       "</mark>\n",
       " ( \n",
       "<mark class=\"entity\" style=\"background: #ff9561; padding: 0.45em 0.6em; margin: 0 0.25em; line-height: 1; border-radius: 0.35em;\">\n",
       "    Município Limeira\n",
       "    <span style=\"font-size: 0.8em; font-weight: bold; line-height: 1; border-radius: 0.35em; vertical-align: middle; margin-left: 0.5rem\">LOC</span>\n",
       "</mark>\n",
       " ) - propriedade pertence hoje descendentes , permitiu construção capela tornaria \n",
       "<mark class=\"entity\" style=\"background: #ff9561; padding: 0.45em 0.6em; margin: 0 0.25em; line-height: 1; border-radius: 0.35em;\">\n",
       "    Igreja Senhora Patrocínio\n",
       "    <span style=\"font-size: 0.8em; font-weight: bold; line-height: 1; border-radius: 0.35em; vertical-align: middle; margin-left: 0.5rem\">LOC</span>\n",
       "</mark>\n",
       " cidade , 15 agosto 1862 . nome &quot; \n",
       "<mark class=\"entity\" style=\"background: #ff9561; padding: 0.45em 0.6em; margin: 0 0.25em; line-height: 1; border-radius: 0.35em;\">\n",
       "    Araras\n",
       "    <span style=\"font-size: 0.8em; font-weight: bold; line-height: 1; border-radius: 0.35em; vertical-align: middle; margin-left: 0.5rem\">LOC</span>\n",
       "</mark>\n",
       " &quot; escolhido referência nome rio corta cidade , devido ave havia região . </div></span>"
      ],
      "text/plain": [
       "<IPython.core.display.HTML object>"
      ]
     },
     "metadata": {},
     "output_type": "display_data"
    }
   ],
   "source": [
    "doc_araras = nlp_pt('A fundação da cidade é atribuída aos irmãos Bento de Lacerda Guimarães , barão de Araras, e José Lacerda Guimarães, barão de Arari, originários de Itatiba. As primeiras residências da região surgiram em suas terras por volta de 1862, mas foi a doação de parte da Fazenda São Joaquim (no Município de Limeira) - propriedade que pertence até hoje a seus descendentes, que permitiu a construção da capela que mais tarde se tornaria a Igreja Nossa Senhora do Patrocínio da cidade, em 15 de agosto de 1862. O nome \"Araras\" foi escolhido em referência ao nome do rio que corta a cidade, e também devido ao grande número dessa ave que havia na região.')\n",
    "\n",
    "txt_araras_sem_stopwords = ''\n",
    "\n",
    "for token in doc_araras:\n",
    "    if not nlp_pt.vocab[token.text].is_stop:\n",
    "        txt_araras_sem_stopwords += f'{token.text} '\n",
    "\n",
    "doc_araras_sem_stopwords = nlp_pt(txt_araras_sem_stopwords)\n",
    "\n",
    "print('Texto normal:\\n')\n",
    "displacy.render(doc_araras, style='ent', jupyter=True)\n",
    "\n",
    "print('\\nTexto filtrado:\\n')\n",
    "displacy.render(doc_araras_sem_stopwords, style='ent', jupyter=True)"
   ]
  },
  {
   "cell_type": "markdown",
   "id": "886a6587-8abd-475c-bf88-9075bb5ca9b9",
   "metadata": {},
   "source": [
    "## Exercício 2"
   ]
  },
  {
   "cell_type": "code",
   "execution_count": 137,
   "id": "a507cbba-3e04-4fb7-99f2-7d839c7693f9",
   "metadata": {},
   "outputs": [
    {
     "name": "stdout",
     "output_type": "stream",
     "text": [
      "Local:  Araras\n",
      "Ação:  visitar\n",
      "\n",
      "Linhagem: \n",
      "| Quais\n",
      "| | Ancestors:\n",
      "| | | lugares\n",
      "| | | podemos\n",
      "| lugares\n",
      "| | Ancestors:\n",
      "| | | podemos\n",
      "| | Children:\n",
      "| | | Quais\n",
      "| podemos\n",
      "| | Children:\n",
      "| | | lugares\n",
      "| | | visitar\n",
      "| visitar\n",
      "| | Ancestors:\n",
      "| | | podemos\n",
      "| | Children:\n",
      "| | | Araras\n",
      "| | | ?\n",
      "| em\n",
      "| | Ancestors:\n",
      "| | | Araras\n",
      "| | | visitar\n",
      "| | | podemos\n",
      "| Araras\n",
      "| | Ancestors:\n",
      "| | | visitar\n",
      "| | | podemos\n",
      "| | Children:\n",
      "| | | em\n",
      "| ?\n",
      "| | Ancestors:\n",
      "| | | visitar\n",
      "| | | podemos\n"
     ]
    },
    {
     "data": {
      "text/html": [
       "<span class=\"tex2jax_ignore\"><svg xmlns=\"http://www.w3.org/2000/svg\" xmlns:xlink=\"http://www.w3.org/1999/xlink\" xml:lang=\"pt\" id=\"49502b2749f9487d84f5cba9d38b586b-0\" class=\"displacy\" width=\"650\" height=\"237.0\" direction=\"ltr\" style=\"max-width: none; height: 237.0px; color: #000000; background: #ffffff; font-family: Arial; direction: ltr\">\n",
       "<text class=\"displacy-token\" fill=\"currentColor\" text-anchor=\"middle\" y=\"147.0\">\n",
       "    <tspan class=\"displacy-word\" fill=\"currentColor\" x=\"50\">Quais</tspan>\n",
       "    <tspan class=\"displacy-tag\" dy=\"2em\" fill=\"currentColor\" x=\"50\">DET</tspan>\n",
       "</text>\n",
       "\n",
       "<text class=\"displacy-token\" fill=\"currentColor\" text-anchor=\"middle\" y=\"147.0\">\n",
       "    <tspan class=\"displacy-word\" fill=\"currentColor\" x=\"150\">lugares</tspan>\n",
       "    <tspan class=\"displacy-tag\" dy=\"2em\" fill=\"currentColor\" x=\"150\">NOUN</tspan>\n",
       "</text>\n",
       "\n",
       "<text class=\"displacy-token\" fill=\"currentColor\" text-anchor=\"middle\" y=\"147.0\">\n",
       "    <tspan class=\"displacy-word\" fill=\"currentColor\" x=\"250\">podemos</tspan>\n",
       "    <tspan class=\"displacy-tag\" dy=\"2em\" fill=\"currentColor\" x=\"250\">VERB</tspan>\n",
       "</text>\n",
       "\n",
       "<text class=\"displacy-token\" fill=\"currentColor\" text-anchor=\"middle\" y=\"147.0\">\n",
       "    <tspan class=\"displacy-word\" fill=\"currentColor\" x=\"350\">visitar</tspan>\n",
       "    <tspan class=\"displacy-tag\" dy=\"2em\" fill=\"currentColor\" x=\"350\">VERB</tspan>\n",
       "</text>\n",
       "\n",
       "<text class=\"displacy-token\" fill=\"currentColor\" text-anchor=\"middle\" y=\"147.0\">\n",
       "    <tspan class=\"displacy-word\" fill=\"currentColor\" x=\"450\">em</tspan>\n",
       "    <tspan class=\"displacy-tag\" dy=\"2em\" fill=\"currentColor\" x=\"450\">ADP</tspan>\n",
       "</text>\n",
       "\n",
       "<text class=\"displacy-token\" fill=\"currentColor\" text-anchor=\"middle\" y=\"147.0\">\n",
       "    <tspan class=\"displacy-word\" fill=\"currentColor\" x=\"550\">Araras?</tspan>\n",
       "    <tspan class=\"displacy-tag\" dy=\"2em\" fill=\"currentColor\" x=\"550\">PROPN</tspan>\n",
       "</text>\n",
       "\n",
       "<g class=\"displacy-arrow\">\n",
       "    <path class=\"displacy-arc\" id=\"arrow-49502b2749f9487d84f5cba9d38b586b-0-0\" stroke-width=\"2px\" d=\"M70,102.0 C70,52.0 145.0,52.0 145.0,102.0\" fill=\"none\" stroke=\"currentColor\"/>\n",
       "    <text dy=\"1.25em\" style=\"font-size: 0.8em; letter-spacing: 1px\">\n",
       "        <textPath xlink:href=\"#arrow-49502b2749f9487d84f5cba9d38b586b-0-0\" class=\"displacy-label\" startOffset=\"50%\" side=\"left\" fill=\"currentColor\" text-anchor=\"middle\">det</textPath>\n",
       "    </text>\n",
       "    <path class=\"displacy-arrowhead\" d=\"M70,104.0 L62,92.0 78,92.0\" fill=\"currentColor\"/>\n",
       "</g>\n",
       "\n",
       "<g class=\"displacy-arrow\">\n",
       "    <path class=\"displacy-arc\" id=\"arrow-49502b2749f9487d84f5cba9d38b586b-0-1\" stroke-width=\"2px\" d=\"M170,102.0 C170,52.0 245.0,52.0 245.0,102.0\" fill=\"none\" stroke=\"currentColor\"/>\n",
       "    <text dy=\"1.25em\" style=\"font-size: 0.8em; letter-spacing: 1px\">\n",
       "        <textPath xlink:href=\"#arrow-49502b2749f9487d84f5cba9d38b586b-0-1\" class=\"displacy-label\" startOffset=\"50%\" side=\"left\" fill=\"currentColor\" text-anchor=\"middle\">nsubj</textPath>\n",
       "    </text>\n",
       "    <path class=\"displacy-arrowhead\" d=\"M170,104.0 L162,92.0 178,92.0\" fill=\"currentColor\"/>\n",
       "</g>\n",
       "\n",
       "<g class=\"displacy-arrow\">\n",
       "    <path class=\"displacy-arc\" id=\"arrow-49502b2749f9487d84f5cba9d38b586b-0-2\" stroke-width=\"2px\" d=\"M270,102.0 C270,52.0 345.0,52.0 345.0,102.0\" fill=\"none\" stroke=\"currentColor\"/>\n",
       "    <text dy=\"1.25em\" style=\"font-size: 0.8em; letter-spacing: 1px\">\n",
       "        <textPath xlink:href=\"#arrow-49502b2749f9487d84f5cba9d38b586b-0-2\" class=\"displacy-label\" startOffset=\"50%\" side=\"left\" fill=\"currentColor\" text-anchor=\"middle\">xcomp</textPath>\n",
       "    </text>\n",
       "    <path class=\"displacy-arrowhead\" d=\"M345.0,104.0 L353.0,92.0 337.0,92.0\" fill=\"currentColor\"/>\n",
       "</g>\n",
       "\n",
       "<g class=\"displacy-arrow\">\n",
       "    <path class=\"displacy-arc\" id=\"arrow-49502b2749f9487d84f5cba9d38b586b-0-3\" stroke-width=\"2px\" d=\"M470,102.0 C470,52.0 545.0,52.0 545.0,102.0\" fill=\"none\" stroke=\"currentColor\"/>\n",
       "    <text dy=\"1.25em\" style=\"font-size: 0.8em; letter-spacing: 1px\">\n",
       "        <textPath xlink:href=\"#arrow-49502b2749f9487d84f5cba9d38b586b-0-3\" class=\"displacy-label\" startOffset=\"50%\" side=\"left\" fill=\"currentColor\" text-anchor=\"middle\">case</textPath>\n",
       "    </text>\n",
       "    <path class=\"displacy-arrowhead\" d=\"M470,104.0 L462,92.0 478,92.0\" fill=\"currentColor\"/>\n",
       "</g>\n",
       "\n",
       "<g class=\"displacy-arrow\">\n",
       "    <path class=\"displacy-arc\" id=\"arrow-49502b2749f9487d84f5cba9d38b586b-0-4\" stroke-width=\"2px\" d=\"M370,102.0 C370,2.0 550.0,2.0 550.0,102.0\" fill=\"none\" stroke=\"currentColor\"/>\n",
       "    <text dy=\"1.25em\" style=\"font-size: 0.8em; letter-spacing: 1px\">\n",
       "        <textPath xlink:href=\"#arrow-49502b2749f9487d84f5cba9d38b586b-0-4\" class=\"displacy-label\" startOffset=\"50%\" side=\"left\" fill=\"currentColor\" text-anchor=\"middle\">obl</textPath>\n",
       "    </text>\n",
       "    <path class=\"displacy-arrowhead\" d=\"M550.0,104.0 L558.0,92.0 542.0,92.0\" fill=\"currentColor\"/>\n",
       "</g>\n",
       "</svg></span>"
      ],
      "text/plain": [
       "<IPython.core.display.HTML object>"
      ]
     },
     "metadata": {},
     "output_type": "display_data"
    }
   ],
   "source": [
    "doc = nlp_pt('Quais lugares podemos visitar em Araras?')\n",
    "\n",
    "action = None\n",
    "location = None\n",
    "\n",
    "for token in doc:\n",
    "    # Filtra apenas os tokens de localização\n",
    "    if token.ent_type_ == 'LOC':\n",
    "        location = token.text\n",
    "\n",
    "        for ancestor in token.ancestors:\n",
    "            # Filtra apenas verbos\n",
    "            if not ancestor.pos_ == 'VERB':\n",
    "                continue\n",
    "\n",
    "            # Parseia cada children para só obter aqueles relacionados com\n",
    "            # a locaiton\n",
    "            if token in ancestor.children:\n",
    "                action = ancestor.text\n",
    "\n",
    "print('Local: ', location)\n",
    "print('Ação: ', action)\n",
    "\n",
    "print('\\nLinhagem: ')\n",
    "for token in doc:\n",
    "    print(f'| {token}')\n",
    "\n",
    "    if len(list(token.ancestors)) > 0:\n",
    "        print('| | Ancestors:')\n",
    "        for ancestor in token.ancestors:\n",
    "            print(f'| | | {ancestor.text}')\n",
    "\n",
    "    if len(list(token.children)) > 0:\n",
    "        print('| | Children:')\n",
    "        for child in token.children:\n",
    "            print(f'| | | {child.text}')\n",
    "\n",
    "displacy.render(doc, style='dep', jupyter=True, options={'distance': 100})"
   ]
  },
  {
   "cell_type": "markdown",
   "id": "3558f729-8d8a-443f-852d-7e3856ab8ef6",
   "metadata": {},
   "source": [
    "## Exercício 3\n",
    "\n",
    "deseja-se desenvolver um jogo no qual, dada uma palavra sorteada aleatoriamente dente um conjunto de palavras previamente estabelecidas, o player tenha que digitar uma palavra similar, mas não idêntica. O jogo termina quando o player digitar uma palavra com similaridade menor que um limiar estabelecido (por exemplo: 60%)."
   ]
  },
  {
   "cell_type": "code",
   "execution_count": null,
   "id": "68a0df48-208d-453f-acc5-47e8c7e2af87",
   "metadata": {},
   "outputs": [],
   "source": []
  },
  {
   "cell_type": "code",
   "execution_count": null,
   "id": "c362ce76-a028-4bd9-9f6a-4c58f17e0baf",
   "metadata": {},
   "outputs": [],
   "source": []
  },
  {
   "cell_type": "code",
   "execution_count": 28,
   "id": "6234ec33-593c-4779-9566-188c595b958d",
   "metadata": {},
   "outputs": [
    {
     "name": "stdin",
     "output_type": "stream",
     "text": [
      "Escolha uma dificuldade:\n",
      "  F - Fácil\n",
      "  M - Média\n",
      "  D - Difícil\n",
      " f\n"
     ]
    },
    {
     "name": "stdout",
     "output_type": "stream",
     "text": [
      "\n",
      "Iniciando jogo na dificuldade Fácil\n",
      "Será preciso que a palavra escrita seja ao menos 25% similar\n"
     ]
    },
    {
     "name": "stdin",
     "output_type": "stream",
     "text": [
      "\n",
      "Escreva uma palavra similar a: criança\n",
      " cria\n"
     ]
    },
    {
     "name": "stderr",
     "output_type": "stream",
     "text": [
      "/tmp/ipykernel_15797/2956497950.py:37: UserWarning: [W007] The model you're using has no word vectors loaded, so the result of the Doc.similarity method will be based on the tagger, parser and NER, which may not give useful similarity judgements. This may happen if you're using one of the small models, e.g. `en_core_web_sm`, which don't ship with word vectors and only use context-sensitive tensors. You can always add your own word vectors, or use one of the larger models instead if available.\n",
      "  similaridade = abs(palavra_escolhida.similarity(entrada))\n"
     ]
    },
    {
     "name": "stdout",
     "output_type": "stream",
     "text": [
      "Parabéns! A similariade entre criança e cria foi de 50%\n"
     ]
    },
    {
     "name": "stdin",
     "output_type": "stream",
     "text": [
      "\n",
      "Escreva uma palavra similar a: chuva\n",
      " chove\n"
     ]
    },
    {
     "name": "stdout",
     "output_type": "stream",
     "text": [
      "Parabéns! A similariade entre chuva e chove foi de 45%\n"
     ]
    },
    {
     "name": "stdin",
     "output_type": "stream",
     "text": [
      "\n",
      "Escreva uma palavra similar a: televisão\n",
      " televisa\n"
     ]
    },
    {
     "name": "stdout",
     "output_type": "stream",
     "text": [
      "Parabéns! A similariade entre televisão e televisa foi de 65%\n"
     ]
    },
    {
     "name": "stdin",
     "output_type": "stream",
     "text": [
      "\n",
      "Escreva uma palavra similar a: casa\n",
      " computador\n"
     ]
    },
    {
     "name": "stdout",
     "output_type": "stream",
     "text": [
      "Parabéns! A similariade entre casa e computador foi de 37%\n"
     ]
    },
    {
     "name": "stdin",
     "output_type": "stream",
     "text": [
      "\n",
      "Escreva uma palavra similar a: chuva\n",
      " correios vindo da china e parando um curitiba\n"
     ]
    },
    {
     "name": "stdout",
     "output_type": "stream",
     "text": [
      "Você perdeu!\n",
      "A similaridade entre chuva e correios vindo da china e parando um curitiba é de apenas 12%\n"
     ]
    }
   ],
   "source": [
    "from random import choice\n",
    "\n",
    "import spacy\n",
    "\n",
    "palavras = [\n",
    "    \"Café\", \"Carro\", \"Livro\", \"Telefone\", \"Computador\",\n",
    "    \"Amigo\", \"Família\", \"Viagem\", \"Comida\", \"Casa\",\n",
    "    \"Trabalho\", \"Escola\", \"Praia\", \"Filme\", \"Música\",\n",
    "    \"Felicidade\", \"Chuva\", \"Sorriso\", \"Gato\", \"Cachorro\",\n",
    "    \"Relógio\", \"Dinheiro\", \"Sonho\", \"Sono\", \"Sol\",\n",
    "    \"Lua\", \"Criança\", \"Árvore\", \"Internet\", \"Notícia\",\n",
    "    \"Férias\", \"Amor\", \"Compras\", \"Esporte\", \"Televisão\",\n",
    "    \"Moda\", \"Risada\", \"Conversa\", \"Passeio\", \"Exercício\",\n",
    "    \"Chocolate\", \"Televisão\", \"Telefone\", \"Jantar\", \"Céu\",\n",
    "    \"Estrela\", \"Leitura\", \"Mar\", \"Montanha\", \"Passarinho\"\n",
    "]\n",
    "\n",
    "mapeamento_dificuldades = {\n",
    "    'f': (0.25, 'Fácil'),\n",
    "    'm': (0.35, 'Média'), \n",
    "    'd': (0.45, 'Difícil'),\n",
    "}\n",
    "\n",
    "dificuldade_escolhida = str(input('Escolha uma dificuldade:\\n  F - Fácil\\n  M - Média\\n  D - Difícil\\n') or 'M').lower()\n",
    "while dificuldade_escolhida not in mapeamento_dificuldades:\n",
    "    dificuldade_escolhida = str(input(f'Dificuldade {dificuldade_escolhida} inválida, escolha uma dificuldade entre:\\n  F - Fácil\\n  M - Média\\n  D - Difícil\\n') or 'M').lower()\n",
    "\n",
    "limite, dificuldade = mapeamento_dificuldades[dificuldade_escolhida]\n",
    "print(f'\\nIniciando jogo na dificuldade {dificuldade}')\n",
    "print(f'Será preciso que a palavra escrita seja ao menos {int(limite * 100)}% similar')\n",
    "\n",
    "nlp_pt = spacy.load('pt_core_news_sm')\n",
    "\n",
    "while True:    \n",
    "    palavra_escolhida = nlp_pt(choice(palavras).lower())\n",
    "    entrada = nlp_pt(input(f'\\nEscreva uma palavra similar a: {palavra_escolhida.text}\\n').lower())\n",
    "    similaridade = abs(palavra_escolhida.similarity(entrada))\n",
    "    similaridade_percentual = int(similaridade * 100)\n",
    "\n",
    "    if similaridade < limite:\n",
    "        print('Você perdeu!')\n",
    "        print(f'A similaridade entre {palavra_escolhida.text} e {entrada.text} é de apenas {similaridade_percentual}%')\n",
    "        break\n",
    "    else:\n",
    "        print(f'Parabéns! A similariade entre {palavra_escolhida.text} e {entrada.text} foi de {similaridade_percentual}%')"
   ]
  },
  {
   "cell_type": "code",
   "execution_count": null,
   "id": "3d822f56-f731-4ece-8422-66a13096e3eb",
   "metadata": {},
   "outputs": [],
   "source": []
  }
 ],
 "metadata": {
  "kernelspec": {
   "display_name": "Python 3 (ipykernel)",
   "language": "python",
   "name": "python3"
  },
  "language_info": {
   "codemirror_mode": {
    "name": "ipython",
    "version": 3
   },
   "file_extension": ".py",
   "mimetype": "text/x-python",
   "name": "python",
   "nbconvert_exporter": "python",
   "pygments_lexer": "ipython3",
   "version": "3.11.4"
  }
 },
 "nbformat": 4,
 "nbformat_minor": 5
}
